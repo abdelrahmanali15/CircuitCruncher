{
 "cells": [
  {
   "cell_type": "markdown",
   "metadata": {},
   "source": [
    "# CircuitCruncher: Circuit Simulation Analysis Tools\n",
    " - This repository contains Python scripts and modules to perform various analyses on circuit simulation data. The main functionalities include:\n",
    "    - Make Spice Save File: Generates a SPICE save file for specified variables.\n",
    "    - Operating Point Extraction: Extracts and displays operating point parameters of transistors.\n",
    "    - AC Analysis Data Extraction: Extracts bode plot and main AC data  \n",
    "<div class=\"alert alert-info\" role=\"alert\">\n",
    "  <strong>Tip:</strong> For more information go to the Repo <a href=\"https://github.com/abdelrahmanali15/CircuitCruncher\" class=\"alert-link\">CircuitCruncher</a>.\n",
    "</div>\n",
    "\n",
    "***\n"
   ]
  },
  {
   "cell_type": "markdown",
   "metadata": {},
   "source": [
    "\n",
    "## Guide to Open Locally on VSCode\n",
    "\n",
    "You can also run the project through your browser, but if you prefer to work locally with VSCode, follow these steps:\n",
    "\n",
    "### 1. Clone the Repository\n",
    "\n",
    "First, download the repository. Open your terminal and run the following commands:\n",
    "\n",
    "```bash\n",
    "git clone https://github.com/abdelrahmanali15/CircuitCruncher/tree/notebook_extratesting\n",
    "cd CircuitCruncher\n",
    "```\n",
    "\n",
    "### 2. Open VSCode in the Repository\n",
    "\n",
    "In the terminal, navigate to the cloned repository and open it in VSCode by running:\n",
    "\n",
    "```bash\n",
    "code .\n",
    "```\n",
    "\n",
    "### 3. Set Up the Environment\n",
    "\n",
    "#### If you have Conda:\n",
    "Create a conda environment using the provided YAML file:\n",
    "\n",
    "```bash\n",
    "conda env create -f environment.yaml\n",
    "```\n",
    "\n",
    "Activate the conda environment:\n",
    "\n",
    "```bash\n",
    "conda activate CircuitCruncher_env\n",
    "```\n",
    "\n",
    "#### If you don't have Conda:\n",
    "Install the required packages using the requirements file:\n",
    "\n",
    "```bash\n",
    "pip install -r requirements.txt\n",
    "```\n",
    "\n",
    "### 4. Install VSCode Extensions\n",
    "\n",
    "To work efficiently with Jupyter notebooks and data, install the following extensions in VSCode:\n",
    "\n",
    "- **Jupyter Notebook Extension**: This allows you to open and run Jupyter notebooks directly in VSCode.\n",
    "- **Data Wrangler Extension (optional)**: This extension helps with better variable reading and data manipulation.\n",
    "\n",
    "To install these extensions, open VSCode and go to the Extensions view by clicking on the Extensions icon in the Activity Bar on the side of the window or by pressing `Ctrl+Shift+X`. Search for \"Jupyter\" and \"Data Wrangler\" and click `Install`.\n",
    "\n",
    "---\n",
    "### 5. Edit Jupyter Setting to Show Scrollable Outputs\n",
    "\n",
    "Go to file > prefrences > settings. Search for `notebook.output.scrolling` in search bar and enable scrolling.\n",
    "    "
   ]
  },
  {
   "cell_type": "code",
   "execution_count": null,
   "metadata": {},
   "outputs": [],
   "source": [
    "%reset -f"
   ]
  },
  {
   "cell_type": "markdown",
   "metadata": {},
   "source": [
    "### Adding local library to path so it can be imported"
   ]
  },
  {
   "cell_type": "code",
   "execution_count": null,
   "metadata": {},
   "outputs": [],
   "source": [
    "# Use this if you didn't isntall CircuitCruncher using python3 -m pip install --user -e \n",
    "\n",
    "import sys\n",
    "sys.path.append('/home/tare/Repos/CircuitCruncher/CircuitCruncher')"
   ]
  },
  {
   "cell_type": "code",
   "execution_count": null,
   "metadata": {},
   "outputs": [],
   "source": [
    "import os\n",
    "print(os.path.exists('/home/tare/Repos/CircuitCruncher/CircuitCruncher'))  # Should print: True\n",
    "print(os.listdir('/home/tare/Repos/CircuitCruncher/CircuitCruncher'))  # Should list your Python files\n"
   ]
  },
  {
   "cell_type": "code",
   "execution_count": 5,
   "metadata": {},
   "outputs": [],
   "source": [
    "# import data_formating,file_readers,plot_manager,spice_sim,data_processing\n",
    "from data_formating import *\n",
    "from file_readers import *\n",
    "from plot_manager import *\n",
    "from spice_sim import *\n",
    "from data_processing import *\n",
    "import numpy as np\n",
    "import pandas as pd\n",
    "from prettytable import PrettyTable\n",
    "import matplotlib.pyplot as plt\n",
    "import yaml\n"
   ]
  },
  {
   "cell_type": "markdown",
   "metadata": {},
   "source": [
    "### Add Simulation and Output Directories (User Configuration)"
   ]
  },
  {
   "cell_type": "code",
   "execution_count": null,
   "metadata": {},
   "outputs": [],
   "source": [
    "\n",
    "# sim_dir = '/home/tare/XschemForSky/labs/lab3/5t-ota/sim'\n",
    "save_raw_path = '5t-ota_tb.raw'\n",
    "op_raw_path =  '5t-ota_tb.raw'\n",
    "ac_raw_path =  '5t-ota_tb_ac.raw'\n",
    "dc_raw_path =  '5t-ota_tb_dc.raw'\n",
    "output_dir = ''\n"
   ]
  },
  {
   "cell_type": "markdown",
   "metadata": {},
   "source": [
    "### Generate Save Spice file for Operating point\n",
    "1. In your xschem testbench run op analysis, make sure to add `.options savecurrents` before your control block \n",
    "2. Netlist and Simulate\n",
    "3. A Raw file contains currents is saved (its path and name should have been defined above)\n",
    "4. Load the Raw file and covert it to single data frame.\n",
    "5. Use function `save_fet_vars` to parse the data frame and return Save spice file\n",
    "6. Include the save spice file in xschem inside your control block by `.include /path/to/save.spi`\n",
    "7. Rerun the simulation\n",
    "8. Now all transistors parameters specified are saved in the new raw file"
   ]
  },
  {
   "cell_type": "code",
   "execution_count": null,
   "metadata": {},
   "outputs": [],
   "source": [
    "\n",
    "# Load YAML configuration from file\n",
    "# loadConfig('config.yaml')\n",
    "\n",
    "(arrs, plots) = ng_raw_read(save_raw_path)\n",
    "OP_simNumber = simType('op',plots)\n",
    "\n",
    "\n",
    "dfs = to_data_frames((arrs, plots))\n",
    "\n",
    "df = dfs[OP_simNumber]  # Get the first DataFrame Assuming that it's the first analysis in the Raw File\n",
    "# view_headers(df) # Print variables in dataframe to make sure that it's the one we need\n",
    "\n",
    "save_file_name ='save.spi'\n",
    "saveVars = ['vgs','vds', 'vdsat', 'gm','gmbs', 'id', 'vth', 'gds','cgs','cgb','cgd'] # set variables to be saved in save.spi file\n",
    "save_fet_vars(df.columns,saveVars,savefilename = save_file_name) # create save.spi file in sim directory \n",
    "\n",
    "\n"
   ]
  },
  {
   "cell_type": "markdown",
   "metadata": {},
   "source": [
    "## Include Save.spi file into your spice file and rerun the simulation to save variables needed"
   ]
  },
  {
   "cell_type": "markdown",
   "metadata": {},
   "source": [
    "<div class=\"alert alert-danger\" role=\"alert\">\n",
    "  <strong>Take care:</strong> Once used includeSaveSpice, the include is written in the spice file. Make sure you wrote the right dir and name of file </a>.\n",
    "</div>\n",
    "\n",
    "<div class=\"alert alert-info\" role=\"alert\">\n",
    "  <strong>Tip:</strong> This only add to spice file, if you run `netlist` command from xschem it will overwrite it. If you want to make it persistant, copy the path of save file printed above into your control block in xschem</a>.\n",
    "</div>\n",
    "\n"
   ]
  },
  {
   "cell_type": "code",
   "execution_count": null,
   "metadata": {},
   "outputs": [],
   "source": [
    "run_save = True\n",
    "if run_save:\n",
    "    ngconfig = {\n",
    "        \"ngspice\": {\n",
    "            \"options\": \"-b\"  # Example option, batch mode\n",
    "        }\n",
    "    }\n",
    "    simulator = SpiceSimulator(\n",
    "        name=\"5t-ota_tb\",\n",
    "        simdir=\"/home/tare/XschemForSky/labs/lab3/5t-ota/sim/\", #put sim dir where both spice file and save file are present\n",
    "        config=ngconfig\n",
    "    )\n",
    "\n",
    "\n",
    "    simulator.includeSaveSpice(savedir=\"\",input_file='save.spi') #Put save file in the netlist\n",
    "    simulator.ngspice()     # Rerun the simulation with save file included\n"
   ]
  },
  {
   "cell_type": "markdown",
   "metadata": {},
   "source": [
    "### Print OP Parameters for all transistors"
   ]
  },
  {
   "cell_type": "code",
   "execution_count": null,
   "metadata": {},
   "outputs": [],
   "source": [
    "run_op = True\n",
    "if run_op:    \n",
    "    (arrs, plots) = ng_raw_read(op_raw_path)\n",
    "    OP_simNumber = simType('op',plots)\n",
    "\n",
    "    print(plots[OP_simNumber][b'plotname']) # Print Simulation type to make sure it's what we want\n",
    "\n",
    "\n",
    "    dfs = to_data_frames((arrs, plots))\n",
    "    df = dfs[OP_simNumber]  \n",
    "    # view_headers(df) # Print variables in dataframe to make sure that it's the one we need\n",
    "\n",
    "\n",
    "    # You can add variables other than default printed variables also add simple expresion of variables \n",
    "    op_sim(df,html=True,additional_vars=['cgs','gmbs','vgs','cgb','cgd'],custom_expressions={\"Avi\":\"gm*ro\",\"Cgg\": \"cgb+cgs+cgd\"},output_file=output_dir+'dc_op') # Extract Transistors OP Data"
   ]
  },
  {
   "cell_type": "markdown",
   "metadata": {},
   "source": [
    "### Extract AC Analysis Data "
   ]
  },
  {
   "cell_type": "code",
   "execution_count": null,
   "metadata": {},
   "outputs": [],
   "source": [
    "run_ac = True\n",
    "if run_ac:    \n",
    "    (arrs, plots) = ng_raw_read(ac_raw_path)\n",
    "    AC_simNumber = simType('ac',plots)\n",
    "\n",
    "    dfs = to_data_frames((arrs, plots))\n",
    "    df = dfs[AC_simNumber]\n",
    "\n",
    "    # view_headers(df)\n",
    "\n",
    "    ac_parameters = ac_analysis(df,save=True,output_file=output_dir+'ac_out')\n",
    "\n",
    "    plt.show()"
   ]
  },
  {
   "cell_type": "markdown",
   "metadata": {},
   "source": [
    "### This shows how to get data from parameter sweep parameter\n",
    "1. you should run op analysis in a loop around parameter, ex control block\n",
    "\n",
    "sweep l and save data, the function gets the data saved at each iteration and form a vector for it\n",
    "it doesnt return l so you should add l vector in python code ex. l_values = np.arange(lcurrent, lstop , lstep)\n",
    "```bash\n",
    ".control \n",
    " \n",
    ".include /home/tare/XschemForSky/labs/lab2/mos-charc/sim/save.spi\n",
    "\n",
    "let lcurrent = 0.15\n",
    "let lstop = 10\n",
    "let  lstep = 0.02\n",
    "\n",
    " while lcurrent le lstop\n",
    "\talterparam l = $&lcurrent\n",
    "\treset\n",
    "\tsave all\n",
    "\top\n",
    "\tlet lcurrent = lcurrent + lstep\n",
    "\twrite test_ota_tb.raw\n",
    "\tset appendwrite\n",
    "end\n",
    "```"
   ]
  },
  {
   "cell_type": "code",
   "execution_count": null,
   "metadata": {},
   "outputs": [],
   "source": [
    "\n",
    "(arrs, plots) = ng_raw_read(\"/home/tare/XschemForSky/labs/lab3/5t-ota/sim/5t-ota_tb.raw\")\n",
    "dfs = to_data_frames((arrs, plots))\n",
    "df = dfs[0]\n",
    "\n",
    "\n",
    "lcurrent = 0.15\n",
    "lstop = 10\n",
    "lstep = 0.02\n",
    "l_values = np.arange(lcurrent, lstop , lstep)\n",
    "\n",
    "vout = concatenate_op_dataframes(dfs, '@m.x1.xm2.msky130_fd_pr__pfet_01v8[gm]')\n",
    "\n",
    "\n",
    "plt.figure(figsize=(12, 6))  # Adjust the figure size\n",
    "\n",
    "# Customize the plot\n",
    "plt.plot(l_values, vout, marker='o', linestyle='-', color='b', label='Vout vs L values')\n",
    "plt.title('M2(GM) vs. M2(L)', fontsize=16)\n",
    "plt.xlabel('M2(L) μ', fontsize=14)\n",
    "plt.ylabel('M2(GM)', fontsize=14)\n",
    "plt.grid(True, which='both', linestyle='--', linewidth=0.5)\n",
    "plt.legend(fontsize=12)\n",
    "plt.tight_layout()\n",
    "\n",
    "# Show the plot\n",
    "plt.show()\n",
    "\n",
    "# Print the sizes of l_values and vout\n",
    "print('Size of M2(L):', l_values.size)\n",
    "print('Size of M2(GM):', vout.size)\n"
   ]
  },
  {
   "cell_type": "markdown",
   "metadata": {},
   "source": [
    "### You could also run dc sweep and plot any 2 variables against each other"
   ]
  },
  {
   "cell_type": "code",
   "execution_count": null,
   "metadata": {},
   "outputs": [],
   "source": [
    "run_dc = True\n",
    "\n",
    "if run_dc:    \n",
    "    (arrs, plots) = ng_raw_read(dc_raw_path)\n",
    "    DC_simNumber = simType('dc',plots)\n",
    "\n",
    "    print(plots[DC_simNumber][b'plotname']) # Print Simulation type to make sure it's what we want\n",
    "\n",
    "\n",
    "    dfs = to_data_frames((arrs, plots))\n",
    "    df = dfs[DC_simNumber]  \n",
    "    # view_headers(df) # Print variables in dataframe to select variables I want to plot against each other\n",
    "\n",
    "\n",
    "    vds2 = df['v(@m.x1.xm2.msky130_fd_pr__pfet_01v8[vds])']\n",
    "    gds2 = df['@m.x1.xm2.msky130_fd_pr__pfet_01v8[gds]']\n",
    "    ro2  = np.divide(1,gds2)\n",
    "    plt.figure(figsize=(12, 6))  # Adjust the figure size\n",
    "\n",
    "    # Customize the plot\n",
    "    plt.plot(vds2, ro2, marker='o', linestyle='-', color='b', label='vds2 vs Ro2')\n",
    "    plt.title('vds2 vs Ro2', fontsize=16)\n",
    "    plt.xlabel('M2(vds) ', fontsize=14)\n",
    "    plt.ylabel('M2(GDS)', fontsize=14)\n",
    "    plt.grid(True, which='both', linestyle='--', linewidth=0.5)\n",
    "    plt.legend(fontsize=12)\n",
    "    plt.tight_layout()\n",
    "\n",
    "    # Show the plot\n",
    "    plt.show()\n",
    "\n",
    "    # Print the sizes of l_values and vout\n",
    "    # print('Size of M2(L):', gm2.size)\n",
    "    # print('Size of M2(GM):', gds2.size)"
   ]
  }
 ],
 "metadata": {
  "kernelspec": {
   "display_name": "Python 3",
   "language": "python",
   "name": "python3"
  },
  "language_info": {
   "codemirror_mode": {
    "name": "ipython",
    "version": 3
   },
   "file_extension": ".py",
   "mimetype": "text/x-python",
   "name": "python",
   "nbconvert_exporter": "python",
   "pygments_lexer": "ipython3",
   "version": "3.11.9"
  }
 },
 "nbformat": 4,
 "nbformat_minor": 2
}
